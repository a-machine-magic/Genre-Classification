{
 "cells": [
  {
   "cell_type": "code",
   "execution_count": 1,
   "metadata": {},
   "outputs": [],
   "source": [
    "import ISO_Networksii as ISON\n",
    "import ISO_Networks as ISON1\n",
    "import datawrangler as dtwrnglr\n",
    "import re\n",
    "import operator\n",
    "import string\n",
    "from collections import Counter\n",
    "import numpy as np\n",
    "%matplotlib inline\n",
    "import matplotlib.pyplot as plt\n",
    "from sklearn.feature_extraction.text import TfidfVectorizer, CountVectorizer\n",
    "import pandas as pd"
   ]
  },
  {
   "cell_type": "markdown",
   "metadata": {},
   "source": [
    "# Load Raw Data"
   ]
  },
  {
   "cell_type": "code",
   "execution_count": 2,
   "metadata": {
    "collapsed": true
   },
   "outputs": [],
   "source": [
    "U, F, T, = ISON.load_universe()"
   ]
  },
  {
   "cell_type": "code",
   "execution_count": 3,
   "metadata": {},
   "outputs": [
    {
     "name": "stdout",
     "output_type": "stream",
     "text": [
      "[('Action', 290), ('Comedy', 265), ('Drama', 254), ('Crime', 96), ('Adventure', 61), ('Horror', 56), ('Mystery', 12), ('Animation', 10), ('Fantasy', 6), ('Thriller', 6), ('Sci-Fi', 5), ('Biography', 3), ('Romance', 2), ('Western', 2), ('Family', 1), ('Short', 1)]\n",
      "['Action', 'Comedy', 'Drama', 'Crime', 'Adventure', 'Horror']\n"
     ]
    },
    {
     "name": "stderr",
     "output_type": "stream",
     "text": [
      "/Users/ViVeri/Desktop/ISO_Networks/ISO_Networksii.py:40: SettingWithCopyWarning: \n",
      "A value is trying to be set on a copy of a slice from a DataFrame.\n",
      "Try using .loc[row_indexer,col_indexer] = value instead\n",
      "\n",
      "See the caveats in the documentation: http://pandas.pydata.org/pandas-docs/stable/indexing.html#indexing-view-versus-copy\n",
      "  new['documents'] = [film_strip(i) for i in new.text.tolist()]\n"
     ]
    }
   ],
   "source": [
    "F1, experiment= ISON.genre_sorted_data(F)"
   ]
  },
  {
   "cell_type": "code",
   "execution_count": 4,
   "metadata": {},
   "outputs": [
    {
     "data": {
      "text/plain": [
       "['Action', 'Comedy', 'Drama', 'Crime', 'Adventure', 'Horror']"
      ]
     },
     "execution_count": 4,
     "metadata": {},
     "output_type": "execute_result"
    }
   ],
   "source": [
    "experiment"
   ]
  },
  {
   "cell_type": "code",
   "execution_count": 5,
   "metadata": {},
   "outputs": [],
   "source": [
    "def genre_binary(Universe, experiment):\n",
    "    genre_binary_labels= {}\n",
    "    for key in experiment:\n",
    "        if key not in genre_binary_labels.keys():\n",
    "            _, labels =ISON.genre_binary_sorted_data(Universe, key)\n",
    "            genre_binary_labels[key] = labels \n",
    "    return genre_binary_labels\n",
    "        "
   ]
  },
  {
   "cell_type": "code",
   "execution_count": 6,
   "metadata": {},
   "outputs": [
    {
     "name": "stdout",
     "output_type": "stream",
     "text": [
      "The initial genre distribution is: Counter({'Action': 290, 'Comedy': 265, 'Drama': 254, 'Crime': 96, 'Adventure': 61, 'Horror': 56, 'Other': 48})\n"
     ]
    }
   ],
   "source": [
    "data=F1.documents.tolist()\n",
    "labels = F1['labels'].tolist()\n",
    "print('The initial genre distribution is:',Counter(labels))\n",
    "labels_binary=genre_binary(F1,experiment)"
   ]
  },
  {
   "cell_type": "code",
   "execution_count": 7,
   "metadata": {},
   "outputs": [
    {
     "name": "stdout",
     "output_type": "stream",
     "text": [
      "CPU times: user 10 s, sys: 315 ms, total: 10.4 s\n",
      "Wall time: 11.2 s\n"
     ]
    }
   ],
   "source": [
    "%time cv, data_N=ISON.BoW_ngram(data,1)"
   ]
  },
  {
   "cell_type": "code",
   "execution_count": 8,
   "metadata": {
    "collapsed": true
   },
   "outputs": [],
   "source": [
    "from sklearn.feature_extraction.text import TfidfVectorizer, CountVectorizer\n",
    "from sklearn.model_selection import train_test_split\n",
    "from sklearn.metrics import classification_report\n",
    "from sklearn.pipeline import Pipeline\n",
    "from sklearn.multiclass import OneVsRestClassifier\n",
    "from sklearn.linear_model import LogisticRegression\n",
    "from sklearn.linear_model import RandomizedLogisticRegression\n",
    "from sklearn import preprocessing\n",
    "from sklearn import svm, linear_model\n",
    "from sklearn.linear_model import SGDClassifier"
   ]
  },
  {
   "cell_type": "code",
   "execution_count": 9,
   "metadata": {
    "collapsed": true
   },
   "outputs": [],
   "source": [
    "from sklearn.model_selection import cross_val_score\n",
    "def train_test(data, labels, test_size):\n",
    "    X_train, X_test, y_train, y_test = train_test_split(data, labels,\n",
    "                                                    stratify=labels, \n",
    "                                                    test_size=test_size)\n",
    "    return X_train, X_test, y_train, y_test\n",
    "\n",
    "def ISON_ngram_Film_experiment(universe_representation, labels, test_size):\n",
    "    \n",
    "    \n",
    "    #STEP 1: SPLIT THE DATA\n",
    "    X_train, X_test, y_train, y_test=train_test(universe_representation,labels,test_size)\n",
    "    print('START')\n",
    "    \n",
    "    #STEP 2 : INTIALIZE LOGISTIC REGRESSSION\n",
    "    model_ML = Pipeline([\n",
    "    ('clf',LogisticRegression(solver='sag')) \n",
    "                                                ])\n",
    "    print('Fitting corpus into LogReg() model')\n",
    "    print('Corpus is', str(universe_representation.shape))\n",
    "    \n",
    "    #STEP 3: TRAIN MODEL\n",
    "    clf=model_ML.fit(X_train, y_train)\n",
    "    \n",
    "    #STEP 4: PREDICT TEST\n",
    "    y_pred = clf.predict(X_test)\n",
    "    print('\\n')\n",
    "    \n",
    "    #STEP 5: CLASSIFACTION REPORT \n",
    "    report =classification_report( y_test, y_pred)\n",
    "    print(report)\n",
    "    \n",
    "    print((y_pred == y_test).mean())\n",
    "#     print(report_classfication(report)   ) \n",
    "\n",
    "    #STEP 6: CROSS VALIDATION SCORE \n",
    "    scores=cross_val_score(model_ML, X_train, y_train, cv=10)\n",
    "    print(scores)\n",
    "    print(np.mean(scores))\n",
    "    \n",
    "    return model_ML, clf\n",
    "\n",
    "\n",
    "\n",
    "def ISON_Film_experiment2(universe_representation, labels, test_size, vectorizer):\n",
    "    ##This one runs Randomized LogRegression unlike the first, takes a bit longer \n",
    "    \n",
    "    #STEP 1: SPLIT THE DATA\n",
    "    X_train, X_test, y_train, y_test=train_test(universe_representation,labels,test_size)\n",
    "    print('START')\n",
    "    \n",
    "    #STEP 2: \n",
    "    RLR = RandomizedLogisticRegression()\n",
    "    le = preprocessing.LabelEncoder()\n",
    "    label_encoded=le.fit_transform(labels)\n",
    "    randomizedLRM=RLR.fit(universe_representation, label_encoded)\n",
    "    \n",
    "    \n",
    "    feature_scores=randomizedLRM.all_scores_\n",
    "    index = np.where(feature_scores!= 0)[0]\n",
    "    \n",
    "    model_ML = Pipeline([\n",
    "    ('clf',LogisticRegression(solver='sag'))\n",
    "                                                                    ])\n",
    "    \n",
    "    print('Fitting model')\n",
    "    clf=model_ML.fit(X_train, y_train)\n",
    "    y_pred = clf.predict(X_test)\n",
    "    print('\\n')\n",
    "    print(classification_report( y_test, y_pred))\n",
    "    print((y_pred == y_test).mean())\n",
    "    \n",
    "    print('%s features were of importance, the following are the weights:' %len(index))\n",
    "    print('The top 50 features are:','\\n',ISON.get_top_features(feature_scores,index, vectorizer)[:50])\n",
    "\n"
   ]
  },
  {
   "cell_type": "code",
   "execution_count": 10,
   "metadata": {
    "scrolled": false
   },
   "outputs": [
    {
     "name": "stdout",
     "output_type": "stream",
     "text": [
      "Logistic Regression Binary Genre experiment for  Action\n",
      "START\n"
     ]
    },
    {
     "name": "stderr",
     "output_type": "stream",
     "text": [
      "/Users/ViVeri/anaconda3/lib/python3.6/site-packages/sklearn/utils/deprecation.py:58: DeprecationWarning: Class RandomizedLogisticRegression is deprecated; The class RandomizedLogisticRegression is deprecated in 0.19 and will be removed in 0.21.\n",
      "  warnings.warn(msg, category=DeprecationWarning)\n"
     ]
    },
    {
     "name": "stdout",
     "output_type": "stream",
     "text": [
      "Fitting model\n"
     ]
    },
    {
     "name": "stderr",
     "output_type": "stream",
     "text": [
      "/Users/ViVeri/anaconda3/lib/python3.6/site-packages/sklearn/linear_model/sag.py:326: ConvergenceWarning: The max_iter was reached which means the coef_ did not converge\n",
      "  \"the coef_ did not converge\", ConvergenceWarning)\n"
     ]
    },
    {
     "name": "stdout",
     "output_type": "stream",
     "text": [
      "\n",
      "\n",
      "             precision    recall  f1-score   support\n",
      "\n",
      "     Action       0.76      0.67      0.72        58\n",
      " Not_Action       0.88      0.92      0.90       156\n",
      "\n",
      "avg / total       0.85      0.86      0.85       214\n",
      "\n",
      "0.8551401869158879\n",
      "1005 features were of importance, the following are the weights:\n",
      "The top 50 features are: \n",
      " [(0.55, 'kicks'), (0.54, 'sit'), (0.535, 'bed'), (0.53, 'weapons'), (0.515, 'pursuit'), (0.515, 'lands'), (0.51, 'trained'), (0.51, 'rips'), (0.505, 'fires'), (0.495, 'today'), (0.495, 'dives'), (0.49, 'house'), (0.475, 'tech'), (0.475, 'remaining'), (0.47, 'battle'), (0.47, 'airborne'), (0.465, 'flying'), (0.465, 'blast'), (0.45, 'explodes'), (0.45, 'explode'), (0.445, 'blown'), (0.44, 'blocks'), (0.43, 'steel'), (0.425, 'wreckage'), (0.425, 'weapon'), (0.415, 'bullets'), (0.415, 'armed'), (0.405, 'smashing'), (0.4, 'talk'), (0.39, 'flaming'), (0.375, 'engine'), (0.37, 'sirens'), (0.37, 'rooftop'), (0.365, 'gun'), (0.36, 'destroyed'), (0.35, 'sits'), (0.345, 'crashing'), (0.345, 'chopper'), (0.34, 'trigger'), (0.33, 'slicing'), (0.33, 'blasts'), (0.32, 'kisses'), (0.32, 'bedroom'), (0.31, 'paper'), (0.305, 'calling'), (0.3, 'scanner'), (0.295, 'things'), (0.295, 'sprints'), (0.285, 'talking'), (0.285, 'playing')]\n",
      "CPU times: user 1min 58s, sys: 5.86 s, total: 2min 4s\n",
      "Wall time: 2min 8s\n",
      "########################################################################################\n",
      "Logistic Regression Binary Genre experiment for  Comedy\n",
      "START\n"
     ]
    },
    {
     "name": "stderr",
     "output_type": "stream",
     "text": [
      "/Users/ViVeri/anaconda3/lib/python3.6/site-packages/sklearn/utils/deprecation.py:58: DeprecationWarning: Class RandomizedLogisticRegression is deprecated; The class RandomizedLogisticRegression is deprecated in 0.19 and will be removed in 0.21.\n",
      "  warnings.warn(msg, category=DeprecationWarning)\n"
     ]
    },
    {
     "name": "stdout",
     "output_type": "stream",
     "text": [
      "Fitting model\n"
     ]
    },
    {
     "name": "stderr",
     "output_type": "stream",
     "text": [
      "/Users/ViVeri/anaconda3/lib/python3.6/site-packages/sklearn/linear_model/sag.py:326: ConvergenceWarning: The max_iter was reached which means the coef_ did not converge\n",
      "  \"the coef_ did not converge\", ConvergenceWarning)\n"
     ]
    },
    {
     "name": "stdout",
     "output_type": "stream",
     "text": [
      "\n",
      "\n",
      "             precision    recall  f1-score   support\n",
      "\n",
      "     Comedy       0.75      0.57      0.65        53\n",
      " Not_Comedy       0.87      0.94      0.90       161\n",
      "\n",
      "avg / total       0.84      0.85      0.84       214\n",
      "\n",
      "0.8457943925233645\n",
      "1285 features were of importance, the following are the weights:\n",
      "The top 50 features are: \n",
      " [(0.56, 'fun'), (0.55, 'married'), (0.55, 'light'), (0.545, 'killed'), (0.515, 'ground'), (0.51, 'fine'), (0.5, 'dark'), (0.495, 'totally'), (0.49, 'fires'), (0.485, 'wow'), (0.47, 'face'), (0.46, 'eyes'), (0.455, 'touches'), (0.445, 'terrific'), (0.445, 'explodes'), (0.44, 'reach'), (0.44, 'cute'), (0.43, 'nuts'), (0.43, 'kicks'), (0.425, 'shadows'), (0.42, 'blood'), (0.41, 'answer'), (0.405, 'absolutely'), (0.39, 'stuff'), (0.39, 'senses'), (0.385, 'armed'), (0.38, 'autographed'), (0.375, 'sight'), (0.375, 'fast'), (0.375, 'autographs'), (0.37, 'teeing'), (0.355, 'dangerous'), (0.35, 'weird'), (0.35, 'fighting'), (0.35, 'depressed'), (0.335, 'pep'), (0.335, 'feet'), (0.33, 'bloody'), (0.325, 'streets'), (0.325, 'kill'), (0.32, 'player'), (0.32, 'images'), (0.315, 'uncrumple'), (0.315, 'talking'), (0.315, 'magazine'), (0.315, 'insensitive'), (0.315, 'cosby'), (0.31, 'kidding'), (0.31, 'heading'), (0.305, 'kleenex')]\n",
      "CPU times: user 1min 54s, sys: 6.55 s, total: 2min 1s\n",
      "Wall time: 2min 15s\n",
      "########################################################################################\n",
      "Logistic Regression Binary Genre experiment for  Drama\n",
      "START\n"
     ]
    },
    {
     "name": "stderr",
     "output_type": "stream",
     "text": [
      "/Users/ViVeri/anaconda3/lib/python3.6/site-packages/sklearn/utils/deprecation.py:58: DeprecationWarning: Class RandomizedLogisticRegression is deprecated; The class RandomizedLogisticRegression is deprecated in 0.19 and will be removed in 0.21.\n",
      "  warnings.warn(msg, category=DeprecationWarning)\n"
     ]
    },
    {
     "name": "stdout",
     "output_type": "stream",
     "text": [
      "Fitting model\n"
     ]
    },
    {
     "name": "stderr",
     "output_type": "stream",
     "text": [
      "/Users/ViVeri/anaconda3/lib/python3.6/site-packages/sklearn/linear_model/sag.py:326: ConvergenceWarning: The max_iter was reached which means the coef_ did not converge\n",
      "  \"the coef_ did not converge\", ConvergenceWarning)\n"
     ]
    },
    {
     "name": "stdout",
     "output_type": "stream",
     "text": [
      "\n",
      "\n",
      "             precision    recall  f1-score   support\n",
      "\n",
      "      Drama       0.52      0.31      0.39        51\n",
      "  Not_Drama       0.81      0.91      0.86       163\n",
      "\n",
      "avg / total       0.74      0.77      0.74       214\n",
      "\n",
      "0.7663551401869159\n",
      "1679 features were of importance, the following are the weights:\n",
      "The top 50 features are: \n",
      " [(0.545, 'gun'), (0.515, 'silence'), (0.495, 'weapons'), (0.475, 'leaps'), (0.46, 'pursuit'), (0.46, 'explodes'), (0.445, 'blown'), (0.44, 'screams'), (0.44, 'gently'), (0.43, 'cover'), (0.41, 'referee'), (0.41, 'preaching'), (0.41, 'bed'), (0.4, 'supper'), (0.4, 'sit'), (0.395, 'reveal'), (0.39, 'asleep'), (0.385, 'hits'), (0.375, 'revealing'), (0.37, 'played'), (0.37, 'answer'), (0.365, 'tumbles'), (0.355, 'wry'), (0.355, 'greet'), (0.35, 'shaven'), (0.345, 'pissed'), (0.345, 'medicines'), (0.345, 'knocking'), (0.34, 'speaking'), (0.34, 'grab'), (0.34, 'creativity'), (0.315, 'solemn'), (0.31, 'stuck'), (0.3, 'clothes'), (0.295, 'playing'), (0.295, 'kicks'), (0.29, 'spoken'), (0.29, 'constitutionally'), (0.285, 'footmen'), (0.28, 'weird'), (0.28, 'rolodex'), (0.28, 'morning'), (0.28, 'kerosene'), (0.28, 'fun'), (0.28, 'drops'), (0.275, 'philadelphia'), (0.275, 'cheek'), (0.27, 'trained'), (0.27, 'cigarette'), (0.265, 'slopping')]\n",
      "CPU times: user 1min 48s, sys: 5.12 s, total: 1min 53s\n",
      "Wall time: 1min 56s\n",
      "########################################################################################\n",
      "Logistic Regression Binary Genre experiment for  Crime\n",
      "START\n"
     ]
    },
    {
     "name": "stderr",
     "output_type": "stream",
     "text": [
      "/Users/ViVeri/anaconda3/lib/python3.6/site-packages/sklearn/utils/deprecation.py:58: DeprecationWarning: Class RandomizedLogisticRegression is deprecated; The class RandomizedLogisticRegression is deprecated in 0.19 and will be removed in 0.21.\n",
      "  warnings.warn(msg, category=DeprecationWarning)\n"
     ]
    },
    {
     "name": "stdout",
     "output_type": "stream",
     "text": [
      "Fitting model\n"
     ]
    },
    {
     "name": "stderr",
     "output_type": "stream",
     "text": [
      "/Users/ViVeri/anaconda3/lib/python3.6/site-packages/sklearn/linear_model/sag.py:326: ConvergenceWarning: The max_iter was reached which means the coef_ did not converge\n",
      "  \"the coef_ did not converge\", ConvergenceWarning)\n"
     ]
    },
    {
     "name": "stdout",
     "output_type": "stream",
     "text": [
      "\n",
      "\n",
      "             precision    recall  f1-score   support\n",
      "\n",
      "      Crime       0.50      0.21      0.30        19\n",
      "  Not_Crime       0.93      0.98      0.95       195\n",
      "\n",
      "avg / total       0.89      0.91      0.89       214\n",
      "\n",
      "0.9112149532710281\n",
      "483 features were of importance, the following are the weights:\n",
      "The top 50 features are: \n",
      " [(0.565, 'murder'), (0.425, 'stiffed'), (0.415, 'police'), (0.385, 'photos'), (0.355, 'awav'), (0.35, 'lapeled'), (0.345, 'redistribution'), (0.345, 'informants'), (0.345, 'courthouse'), (0.335, 'visiting'), (0.33, 'crime'), (0.32, 'spics'), (0.32, 'county'), (0.32, 'business'), (0.315, 'frascati'), (0.31, 'systolic'), (0.31, 'detectives'), (0.305, 'heavyset'), (0.3, 'diastolic'), (0.295, 'wechsler'), (0.285, 'moderating'), (0.28, 'unsnapped'), (0.27, 'whiffin'), (0.27, 'redfaced'), (0.27, 'money'), (0.265, 'hygienic'), (0.26, 'latinos'), (0.26, 'killed'), (0.255, 'lg'), (0.255, 'gunmanship'), (0.25, 'smuggling'), (0.25, 'housefrau'), (0.25, 'horserace'), (0.245, 'pradesh'), (0.245, 'packard'), (0.245, 'hollowpoint'), (0.245, 'ams'), (0.24, 'palmetto'), (0.24, 'locos'), (0.24, 'baggie'), (0.24, 'ardly'), (0.235, 'tipsiness'), (0.235, 'nter'), (0.235, 'broadcoast'), (0.23, 'wesson'), (0.23, 'spastics'), (0.23, 'mand'), (0.23, 'briefcases'), (0.23, 'arp'), (0.22, 'legitimate')]\n",
      "CPU times: user 1min 41s, sys: 4.52 s, total: 1min 46s\n",
      "Wall time: 1min 47s\n",
      "########################################################################################\n",
      "Logistic Regression Binary Genre experiment for  Adventure\n",
      "START\n"
     ]
    },
    {
     "name": "stderr",
     "output_type": "stream",
     "text": [
      "/Users/ViVeri/anaconda3/lib/python3.6/site-packages/sklearn/utils/deprecation.py:58: DeprecationWarning: Class RandomizedLogisticRegression is deprecated; The class RandomizedLogisticRegression is deprecated in 0.19 and will be removed in 0.21.\n",
      "  warnings.warn(msg, category=DeprecationWarning)\n"
     ]
    },
    {
     "name": "stdout",
     "output_type": "stream",
     "text": [
      "Fitting model\n"
     ]
    },
    {
     "name": "stderr",
     "output_type": "stream",
     "text": [
      "/Users/ViVeri/anaconda3/lib/python3.6/site-packages/sklearn/linear_model/sag.py:326: ConvergenceWarning: The max_iter was reached which means the coef_ did not converge\n",
      "  \"the coef_ did not converge\", ConvergenceWarning)\n",
      "/Users/ViVeri/anaconda3/lib/python3.6/site-packages/sklearn/metrics/classification.py:1135: UndefinedMetricWarning: Precision and F-score are ill-defined and being set to 0.0 in labels with no predicted samples.\n",
      "  'precision', 'predicted', average, warn_for)\n"
     ]
    },
    {
     "name": "stdout",
     "output_type": "stream",
     "text": [
      "\n",
      "\n",
      "               precision    recall  f1-score   support\n",
      "\n",
      "    Adventure       0.00      0.00      0.00        12\n",
      "Not_Adventure       0.94      1.00      0.97       202\n",
      "\n",
      "  avg / total       0.89      0.94      0.92       214\n",
      "\n",
      "0.9439252336448598\n",
      "314 features were of importance, the following are the weights:\n",
      "The top 50 features are: \n",
      " [(0.385, 'woooo'), (0.325, 'epaulet'), (0.32, 'powerline'), (0.315, 'deum'), (0.31, 'explorers'), (0.305, 'winged'), (0.305, 'enchantment'), (0.285, 'swashbucklers'), (0.285, 'fone'), (0.285, 'aaaaarrrrrgggghhhh'), (0.275, 'pod'), (0.275, 'gunstock'), (0.275, 'chilli'), (0.27, 'krumping'), (0.27, 'breakdancing'), (0.265, 'seq'), (0.26, 'pleeeease'), (0.26, 'paean'), (0.26, 'crowbait'), (0.255, 'twoo'), (0.255, 'raaah'), (0.245, 'unemployable'), (0.245, 'ronco'), (0.24, 'aaaaahhhhhh'), (0.235, 'outloud'), (0.235, 'misters'), (0.235, 'enchantress'), (0.235, 'donkeys'), (0.235, 'apu'), (0.235, 'amiability'), (0.23, 'misunder'), (0.23, 'mice'), (0.225, 'meandering'), (0.225, 'littler'), (0.22, 'prong'), (0.22, 'hup'), (0.215, 'rendezvousing'), (0.215, 'moccasin'), (0.215, 'kayaking'), (0.21, 'unenlightened'), (0.21, 'thronged'), (0.21, 'radiations'), (0.21, 'flytrap'), (0.21, 'driftwood'), (0.21, 'castleton'), (0.205, 'room'), (0.2, 'trotters'), (0.2, 'router'), (0.2, 'fin'), (0.2, 'coochy')]\n",
      "CPU times: user 1min 52s, sys: 5.46 s, total: 1min 57s\n",
      "Wall time: 2min\n",
      "########################################################################################\n",
      "Logistic Regression Binary Genre experiment for  Horror\n",
      "START\n"
     ]
    },
    {
     "name": "stderr",
     "output_type": "stream",
     "text": [
      "/Users/ViVeri/anaconda3/lib/python3.6/site-packages/sklearn/utils/deprecation.py:58: DeprecationWarning: Class RandomizedLogisticRegression is deprecated; The class RandomizedLogisticRegression is deprecated in 0.19 and will be removed in 0.21.\n",
      "  warnings.warn(msg, category=DeprecationWarning)\n"
     ]
    },
    {
     "name": "stdout",
     "output_type": "stream",
     "text": [
      "Fitting model\n",
      "\n",
      "\n",
      "             precision    recall  f1-score   support\n",
      "\n",
      "     Horror       1.00      0.27      0.43        11\n",
      " Not_Horror       0.96      1.00      0.98       203\n",
      "\n",
      "avg / total       0.96      0.96      0.95       214\n",
      "\n",
      "0.9626168224299065\n",
      "193 features were of importance, the following are the weights:\n",
      "The top 50 features are: \n",
      " [(0.4, 'blood'), (0.375, 'screams'), (0.345, 'poltergeists'), (0.345, 'corpse'), (0.335, 'drip'), (0.325, 'clotted'), (0.32, 'boooh'), (0.3, 'snowbound'), (0.295, 'knife'), (0.295, 'hatstand'), (0.295, 'acclimated'), (0.29, 'scream'), (0.29, 'rehangs'), (0.29, 'newsvan'), (0.29, 'carpal'), (0.285, 'neverending'), (0.285, 'deadbolt'), (0.28, 'superbitch'), (0.28, 'appalls'), (0.275, 'shape'), (0.275, 'parapsychologists'), (0.275, 'inebriation'), (0.265, 'weathers'), (0.265, 'samll'), (0.265, 'burts'), (0.26, 'photomat'), (0.26, 'levasseur'), (0.26, 'forecasters'), (0.26, 'defribulator'), (0.255, 'mammalian'), (0.255, 'lipsync'), (0.255, 'cenobites'), (0.25, 'dirtied'), (0.24, 'deadbolts'), (0.235, 'moniter'), (0.235, 'emts'), (0.235, 'basement'), (0.23, 'skin'), (0.225, 'impassible'), (0.22, 'torture'), (0.22, 'narragansett'), (0.22, 'fogs'), (0.215, 'hobbes'), (0.215, 'caressingly'), (0.205, 'rhythmical'), (0.205, 'goldman'), (0.2, 'terror'), (0.2, 'orth'), (0.195, 'wolflike'), (0.195, 'wettish')]\n",
      "CPU times: user 1min 58s, sys: 5.91 s, total: 2min 4s\n",
      "Wall time: 2min 10s\n",
      "########################################################################################\n"
     ]
    },
    {
     "name": "stderr",
     "output_type": "stream",
     "text": [
      "/Users/ViVeri/anaconda3/lib/python3.6/site-packages/sklearn/linear_model/sag.py:326: ConvergenceWarning: The max_iter was reached which means the coef_ did not converge\n",
      "  \"the coef_ did not converge\", ConvergenceWarning)\n"
     ]
    }
   ],
   "source": [
    "for genre in experiment: \n",
    "    print('Logistic Regression Binary Genre experiment for ', genre)\n",
    "    %time ISON_Film_experiment2(data_N,labels_binary[genre],.20, cv)\n",
    "    print(88 * '#')"
   ]
  },
  {
   "cell_type": "code",
   "execution_count": null,
   "metadata": {
    "collapsed": true
   },
   "outputs": [],
   "source": []
  }
 ],
 "metadata": {
  "kernelspec": {
   "display_name": "Python 3",
   "language": "python",
   "name": "python3"
  },
  "language_info": {
   "codemirror_mode": {
    "name": "ipython",
    "version": 3
   },
   "file_extension": ".py",
   "mimetype": "text/x-python",
   "name": "python",
   "nbconvert_exporter": "python",
   "pygments_lexer": "ipython3",
   "version": "3.6.3"
  }
 },
 "nbformat": 4,
 "nbformat_minor": 2
}
