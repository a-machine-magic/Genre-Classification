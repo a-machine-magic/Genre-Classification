{
 "cells": [
  {
   "cell_type": "markdown",
   "metadata": {},
   "source": [
    "# EXPERIMENT 1\n",
    "### The following notebook contains the code for Genre Classifcation Experiment. In this experiment the goal is to use an unsupervised learning algorithm (LDA) as a way to engineer features to aid in the supervised learning task of classifying documents according to genre.\n",
    "\n",
    "e.g. building a classifier on top of a topic model "
   ]
  },
  {
   "cell_type": "code",
   "execution_count": 54,
   "metadata": {
    "collapsed": true
   },
   "outputs": [],
   "source": [
    "import ISO_Networks as ISON\n",
    "import datawrangler\n",
    "\n",
    "import re\n",
    "import string\n",
    "import nltk\n",
    "import pandas as pd\n",
    "\n",
    "import matplotlib.pyplot as plt\n",
    "import plotly\n",
    "%matplotlib inline"
   ]
  },
  {
   "cell_type": "markdown",
   "metadata": {},
   "source": [
    "# Gather Data From 3 Corpora"
   ]
  },
  {
   "cell_type": "code",
   "execution_count": 2,
   "metadata": {
    "collapsed": true
   },
   "outputs": [],
   "source": [
    "C, F, T =ISON.load_universe()"
   ]
  },
  {
   "cell_type": "code",
   "execution_count": 8,
   "metadata": {
    "collapsed": true
   },
   "outputs": [],
   "source": [
    "films = F.text.tolist()\n",
    "television = T.text.tolist()"
   ]
  },
  {
   "cell_type": "markdown",
   "metadata": {},
   "source": [
    "# LDA Trained Model\n",
    "Load previously trained LDA models from CMU Movie Corpus.\n",
    "### One of the things to consider here is how the model is trained ( different hyperparameters)\n",
    "The first model was run 500 times without lemmatization\n",
    "The second model was run 200 times with lemmatization"
   ]
  },
  {
   "cell_type": "code",
   "execution_count": 3,
   "metadata": {
    "collapsed": true
   },
   "outputs": [],
   "source": [
    "model_0, dictionary0=datawrangler.load_model('topic500i.model')\n",
    "model_1, dictionary1=datawrangler.load_model('200_27_silver.model')"
   ]
  },
  {
   "cell_type": "code",
   "execution_count": 4,
   "metadata": {
    "collapsed": true
   },
   "outputs": [],
   "source": [
    "legend_0=datawrangler.topic_items(model_0,20)\n",
    "legend_1=datawrangler.topic_items(model_1,20)"
   ]
  },
  {
   "cell_type": "markdown",
   "metadata": {},
   "source": [
    "# Preprocess Film Documents \n",
    "The input data for acquired from the original data matrices and translated into a bag of words representation. The film_strip function gets rid of all forms of punctuation, stopwords and returns a lowercase lematized BoW"
   ]
  },
  {
   "cell_type": "code",
   "execution_count": 377,
   "metadata": {
    "collapsed": true
   },
   "outputs": [],
   "source": [
    "import string\n",
    "import re\n",
    "import collections\n",
    "from collections import Counter"
   ]
  },
  {
   "cell_type": "code",
   "execution_count": 478,
   "metadata": {
    "collapsed": true
   },
   "outputs": [],
   "source": [
    "lp=lambda x: x.translate(None, string.digits)"
   ]
  },
  {
   "cell_type": "markdown",
   "metadata": {},
   "source": [
    "# Normalization"
   ]
  },
  {
   "cell_type": "code",
   "execution_count": 70,
   "metadata": {
    "collapsed": true
   },
   "outputs": [],
   "source": [
    "#stopwords\n",
    "stop_words=ISON.stop_words()\n",
    "lemma = nltk.wordnet.WordNetLemmatizer()\n",
    "\n",
    "def film_strip(source):\n",
    "    regex = re.compile('[%s]' % re.escape(string.punctuation))\n",
    "    out = regex.sub(' ', source)\n",
    "    out =out.lower().split()\n",
    "    film_strip=[lemma.lemmatize(token) for token in out if token not in stop_words]\n",
    "    return film_strip\n",
    "\n",
    "\n",
    "def word_distribution(bow):\n",
    "    flatten = lambda l: [item for sublist in l for item in sublist]\n",
    "    raw_word_soup=flatten(bow)\n",
    "    word_counter = collections.Counter(raw_word_soup)\n",
    "\n",
    "    return word_counter\n",
    "    "
   ]
  },
  {
   "cell_type": "markdown",
   "metadata": {},
   "source": [
    "## Normalzied Data"
   ]
  },
  {
   "cell_type": "code",
   "execution_count": 83,
   "metadata": {
    "collapsed": true
   },
   "outputs": [],
   "source": [
    "# normalize screenplays\n",
    "film_universe=[film_strip(screenplay) for screenplay in films]"
   ]
  },
  {
   "cell_type": "code",
   "execution_count": 106,
   "metadata": {
    "collapsed": true
   },
   "outputs": [],
   "source": [
    "F['normal'] = [' '.join(i) for i in film_universe]"
   ]
  },
  {
   "cell_type": "markdown",
   "metadata": {},
   "source": [
    "# Word distribution in corpora\n",
    "Word distribution in corpora can reveal certain words that appear far too often to be of use much in the same way as other stop words.\n",
    "\n",
    "## Might be a good idea to filter out some of the top occuring words for greater data granularity (reduce noise)"
   ]
  },
  {
   "cell_type": "code",
   "execution_count": 84,
   "metadata": {
    "collapsed": true
   },
   "outputs": [],
   "source": [
    "#calculate word distributions\n",
    "film_word_distribution= word_distribution(film_universe)"
   ]
  },
  {
   "cell_type": "code",
   "execution_count": 85,
   "metadata": {},
   "outputs": [
    {
     "name": "stdout",
     "output_type": "stream",
     "text": [
      "         Word   Count\n",
      "0        door  146864\n",
      "1        hand  140291\n",
      "2        room  129721\n",
      "3        turn  115728\n",
      "4         eye  104867\n",
      "5        head  102876\n",
      "6        cont  102430\n",
      "7        open   98640\n",
      "8        face   97028\n",
      "9        time   96102\n",
      "10        car   93411\n",
      "11        cut   92715\n",
      "12  continued   82879\n",
      "13       move   74561\n",
      "14       walk   73729\n",
      "15       pull   72139\n",
      "16      start   71220\n",
      "17       take   67815\n",
      "18      house   66840\n",
      "19      close   64860\n"
     ]
    },
    {
     "data": {
      "image/png": "[encoded data removed]",
      "text/plain": [
       "<matplotlib.figure.Figure at 0x1a97aa0470>"
      ]
     },
     "metadata": {},
     "output_type": "display_data"
    }
   ],
   "source": [
    "lst = film_word_distribution.most_common(2000000)\n",
    "df = pd.DataFrame(lst, columns = ['Word', 'Count'])\n",
    "df.plot(x='Word',y='Count')\n",
    "print(df.head(20))"
   ]
  },
  {
   "cell_type": "markdown",
   "metadata": {},
   "source": [
    "# Topic Discovery Film Corpus\n",
    "Utilize normalized data to project into the LDA MODEL. The ouput will be topic distributions to utilize as features later"
   ]
  },
  {
   "cell_type": "code",
   "execution_count": 49,
   "metadata": {
    "collapsed": true
   },
   "outputs": [],
   "source": [
    "#SAMPLE CODE \n",
    "# document_topics = model_0[dictionary0.doc2bow(film_reels[0])]\n",
    "# exclude = [22,12]\n",
    "# sorted_documents=sorted(document_topics, reverse=True, key = lambda x :x[1])[:7]\n",
    "# top_topics=[j for j,_ in sorted_documents]\n",
    "# theme_id = [t for t in top_topics if t not in exclude]\n",
    "# theme= [legend_0[t] for t in top_topics if t not in exclude]"
   ]
  },
  {
   "cell_type": "markdown",
   "metadata": {},
   "source": [
    "    film_analysis_model is designed to output the words in the top topics for each document"
   ]
  },
  {
   "cell_type": "code",
   "execution_count": 81,
   "metadata": {
    "collapsed": true
   },
   "outputs": [],
   "source": [
    "def film_analysis_model_0(film):\n",
    "    document_topics = model_0[dictionary0.doc2bow(film)]\n",
    "    exclude = set([24,21, 29,12])\n",
    "    sorted_documents=sorted(document_topics, reverse=True, key = lambda x :x[1])[:10]\n",
    "    top_topics=[j for j,_ in sorted_documents]\n",
    "    theme_id = [t for t in top_topics if t not in exclude]\n",
    "    theme= [legend_0[t] for t in top_topics if t not in exclude]\n",
    "    \n",
    "    return theme\n",
    "    \n",
    "def film_analysis_model_1(film):\n",
    "    document_topics = model_1[dictionary1.doc2bow(film)]\n",
    "    exclude = [22,12, 13,14]\n",
    "    sorted_documents=sorted(document_topics, reverse=True, key = lambda x :x[1])[:10]\n",
    "    top_topics=[j for j,_ in sorted_documents]\n",
    "    theme_id = [t for t in top_topics if t not in exclude]\n",
    "    theme= [legend_1[t] for t in top_topics if t not in exclude]\n",
    "    \n",
    "    return theme"
   ]
  },
  {
   "cell_type": "code",
   "execution_count": 431,
   "metadata": {
    "collapsed": true
   },
   "outputs": [],
   "source": [
    "film_theme0=[film_analysis_model_0(film) for film in film_universe]\n",
    "film_theme1=[film_analysis_model_1(film) for film in film_universe]"
   ]
  },
  {
   "cell_type": "code",
   "execution_count": 189,
   "metadata": {
    "scrolled": false
   },
   "outputs": [
    {
     "name": "stdout",
     "output_type": "stream",
     "text": [
      "labels                                              Mystery\n",
      "name                                          inception.txt\n",
      "text      INCEPTION Written by Christopher Nolan SHOOTIN...\n",
      "normal    inception written shooting script fade crashin...\n",
      "Name: 2003, dtype: object \n",
      "\n",
      "Topic Themes from Model_0:\n",
      "[['earth', 'find', 'escape', 'world', 'time', 'human', 'city', 'group', 'creature', 'power', 'use', 'alien', 'monster', 'team', 'ship', 'control', 'planet', 'destroy', 'help', 'attack'], ['wife', 'tells', 'husband', 'relationship', 'woman', 'finds', 'married', 'leaves', 'friend', 'time', 'daughter', 'returns', 'decides', 'goes', 'marriage', 'meets', 'asks', 'tries', 'wants', 'wedding'], ['father', 'family', 'school', 'mother', 'friends', 'children', 'time', 'parents', 'boy', 'tells', 'find', 'girl', 'house', 'help', 'old', 'brother', 'girls', 'take', 'high', 'story'], ['money', 'police', 'car', 'gets', '000', 'business', 'bank', 'work', 'pay', 'take', 'plan', 'company', 'drug', 'help', 'boss', 'owner', 'deal', 'local', 'store', 'takes'], ['dragon', 'superman', 'master', 'barnes', 'babe', 'knight', 'knights', 'bunker', 'dragons', 'dagger', 'clone', 'puppets', 'ryder', 'sword', 'battle', 'gant', 'po', 'puppet', 'chick', \"arthur's\"], ['camp', 'hitler', 'cavil', 'shuttle', 'pike', 'callahan', 'crocodile', 'gander', 'mahoney', 'lake', 'jenkins', 'kharis', 'campers', 'ss', 'android', 'salt', 'mist', 'rambo', 'elephants', 'slaughter'], ['murder', 'death', 'police', 'wife', 'story', 'killer', 'years', 'detective', 'woman', 'prison', 'evidence', 'begins', 'murdered', 'suicide', 'killed', 'crime', 'investigation', 'murders', 'hospital', 'trial'], ['sir', 'death', 'london', 'lord', 'father', 'england', 'priest', 'castle', 'god', 'palace', 'brother', 'escape', 'english', 'rome', 'daughter', 'taken', 'dies', 'british', 'years', 'help']] \n",
      "\n",
      "Topic Themes from Model_1:\n",
      "[['dr.', 'use', 'time', 'doctor', 'power', 'world', 'human', 'control', 'destroy', 'work', 'attempt', 'discover', 'scientist', 'create', 'city', 'machine', 'reveal', 'take', 'professor', 'cause'], ['war', 'soldier', 'army', 'force', 'order', 'kill', 'american', 'attack', 'british', 'take', 'officer', 'agent', 'plane', 'general', 'mission', 'military', 'bomb', 'united', 'send', 'pilot'], ['father', 'family', 'mother', 'leave', 'find', 'friend', 'take', 'child', 'return', 'meet', 'woman', 'old', 'wife', 'year', 'live', 'time', 'daughter', 'work', 'decide', 'husband'], ['police', 'kill', 'murder', 'find', 'drug', 'prison', 'arrest', 'take', 'shoot', 'crime', 'reveal', 'death', 'wife', 'officer', 'call', 'detective', 'attempt', 'name', 'suspect', 'escape'], ['car', 'drive', 'truck', 'driver', 'train', 'race', 'road', 'station', 'bond', 'bus', 'crash', 'doc', 'gas', 'vehicle', 'police', 'passenger', 'speed', 'desert', 'motel', 'engine'], ['mr.', 'mrs.', 'lecter', 'kitten', 'el', 'mahoney', 'boo', 'rooster', 'potter', 'gibson', 'orange', 'sugar', 'peck', 'shipwreck', 'hopkins', 'loki', 'minnesota', 'club', 'lau', 'massie'], ['vampire', 'dracula', 'count', 'helsing', 'ape', 'tweety', 'harker', 'clouseau', 'pope', 'blood', 'cardinal', 'countess', \"d'artagnan\", 'granny', 'castle', 'hammond', 'nemo', 'bat', 'weaver', 'stake']]\n"
     ]
    }
   ],
   "source": [
    "N = 2003\n",
    "print(F.iloc[N], '\\n')\n",
    "print('Topic Themes from Model_0:')\n",
    "print(film_theme0[N], '\\n')\n",
    "print('Topic Themes from Model_1:')\n",
    "print(film_theme1[N])"
   ]
  },
  {
   "cell_type": "markdown",
   "metadata": {},
   "source": [
    "# Topic-Theme Vectors\n",
    "    Still working on way to get LDA vector representation to feed into model below\n",
    "        Need to figure out if gensim provides vector representation of topics already\n",
    "        \n",
    "        \n",
    "       This code below shows the number of topics present per document and the corresponding weight associated with each topic\n"
   ]
  },
  {
   "cell_type": "code",
   "execution_count": 370,
   "metadata": {
    "collapsed": true
   },
   "outputs": [],
   "source": [
    "def document_theme_vector(film_reels):\n",
    "    theme_matrix = []\n",
    "    weight =lambda x: np.array([i[1] for i in x])\n",
    "    \n",
    "    for i in film_reels:\n",
    "        theme_array=model_0.get_document_topics(dictionary0.doc2bow(i), minimum_probability=0)\n",
    "        vector=weight(theme_array)\n",
    "        theme_matrix.append(vector)\n",
    "    \n",
    "\n",
    "    theme_matrix = np.array(theme_matrix)\n",
    "    return theme_matrix"
   ]
  },
  {
   "cell_type": "code",
   "execution_count": 389,
   "metadata": {
    "collapsed": true
   },
   "outputs": [],
   "source": [
    "topicid =lambda x: [i[0] for i in x]\n",
    "weight =lambda x: np.array([i[1] for i in x])"
   ]
  },
  {
   "cell_type": "code",
   "execution_count": 482,
   "metadata": {},
   "outputs": [
    {
     "name": "stdout",
     "output_type": "stream",
     "text": [
      "(2827, 30)\n"
     ]
    },
    {
     "data": {
      "text/plain": [
       "array([0.00238104, 0.0243966 , 0.0685402 , 0.00144556, 0.00348003,\n",
       "       0.01280983, 0.00323073, 0.00718913, 0.00190389, 0.00186404,\n",
       "       0.00436154, 0.02276266, 0.01803318, 0.04881169, 0.00514157,\n",
       "       0.00319322, 0.0276247 , 0.02766969, 0.03508636, 0.00302291,\n",
       "       0.00258691, 0.43232985, 0.00569769, 0.01373041, 0.12359743,\n",
       "       0.00629092, 0.04554638, 0.00407997, 0.00285839, 0.0403335 ])"
      ]
     },
     "execution_count": 482,
     "metadata": {},
     "output_type": "execute_result"
    }
   ],
   "source": [
    "theme_features=document_theme_vector(film_universe)\n",
    "print(theme_features.shape)\n",
    "theme_features[0]"
   ]
  },
  {
   "cell_type": "code",
   "execution_count": 332,
   "metadata": {
    "collapsed": true
   },
   "outputs": [],
   "source": [
    "# new=np.concatenate((dd,rrr), axis=1)\n",
    "# pd.DataFrame(new)\n",
    "# dd=F.as_matrix()\n",
    "# dd.shape"
   ]
  },
  {
   "cell_type": "markdown",
   "metadata": {},
   "source": [
    "# MACHINE LEARNING MODEL\n",
    "\n",
    "## TO-DO\n",
    "    # Find a way to concatenate topic-features with word-features\n",
    "    #\n",
    "    "
   ]
  },
  {
   "cell_type": "code",
   "execution_count": 432,
   "metadata": {
    "collapsed": true
   },
   "outputs": [],
   "source": [
    "# Machine Learning MODEL \n",
    "from sklearn.model_selection import StratifiedKFold, StratifiedShuffleSplit, GridSearchCV\n",
    "from sklearn.feature_extraction.text import TfidfVectorizer\n",
    "from sklearn.pipeline import Pipeline\n",
    "from sklearn import linear_model, decomposition\n",
    "from sklearn.multiclass import OneVsRestClassifier\n",
    "from sklearn.linear_model import LogisticRegression\n",
    "from sklearn import svm"
   ]
  },
  {
   "cell_type": "code",
   "execution_count": 465,
   "metadata": {
    "collapsed": true
   },
   "outputs": [],
   "source": [
    "def tf_idf_vector(corpus):\n",
    "    tf = TfidfVectorizer(analyzer='word', ngram_range=(1,3), min_df = 0, stop_words = stop_words)\n",
    "    matrix=tf.tfidf_matrix =  tf.fit_transform(corpus)\n",
    "    feature_names = tf.get_feature_names() \n",
    "    return matrix, feature_names\n",
    "    "
   ]
  },
  {
   "cell_type": "code",
   "execution_count": 472,
   "metadata": {
    "collapsed": true
   },
   "outputs": [],
   "source": [
    "film_strings = [' '.join(i) for i in film_universe]\n",
    "tf = TfidfVectorizer(analyzer='word', ngram_range=(1,3), min_df = 0, stop_words = stop_words)\n",
    "tf_features=tf.fit_transform(film_strings)"
   ]
  },
  {
   "cell_type": "markdown",
   "metadata": {},
   "source": [
    "# Concatenate Feature Vectors"
   ]
  },
  {
   "cell_type": "code",
   "execution_count": null,
   "metadata": {
    "collapsed": true
   },
   "outputs": [],
   "source": [
    "from scipy.sparse import hstack\n",
    "gold=hstack([theme_features, tf_features])"
   ]
  },
  {
   "cell_type": "code",
   "execution_count": 94,
   "metadata": {
    "collapsed": true
   },
   "outputs": [],
   "source": [
    "# pipeline = Pipeline([\n",
    "#     ('tfidf', TfidfVectorizer(stop_words=stop_words)),\n",
    "#     ('clf', OneVsRestClassifier(LogisticRegression(solver='sag')))])\n",
    "\n",
    "# parameters = {\n",
    "#     'tfidf__max_df': (0.25, 0.5, 0.75),\n",
    "#     'tfidf__ngram_range': [(1, 1), (1, 2), (1, 3)],\n",
    "#     \"clf__estimator__C\": [0.01, 0.1, 1],\n",
    "#     \"clf__estimator__class_weight\": ['balanced', None],\n",
    "# }\n"
   ]
  },
  {
   "cell_type": "code",
   "execution_count": 333,
   "metadata": {
    "collapsed": true
   },
   "outputs": [],
   "source": [
    "# data_x = F[['theme']].as_matrix()\n",
    "\n",
    "#labels\n",
    "data_y = F.drop(['name', 'text', 'normal', 'theme'], axis=1).as_matrix()"
   ]
  },
  {
   "cell_type": "code",
   "execution_count": 420,
   "metadata": {
    "collapsed": true
   },
   "outputs": [],
   "source": [
    "# from sklearn.ensemble import RandomForestClassifier\n",
    "# from sklearn import linear_model\n",
    "# # clf = linear_model.Lasso(alpha=0.1)"
   ]
  },
  {
   "cell_type": "code",
   "execution_count": 435,
   "metadata": {},
   "outputs": [
    {
     "name": "stderr",
     "output_type": "stream",
     "text": [
      "/Users/ViVeri/anaconda3/lib/python3.6/site-packages/sklearn/model_selection/_split.py:605: Warning:\n",
      "\n",
      "The least populated class in y has only 2 members, which is too few. The minimum number of members in any class cannot be less than n_splits=10.\n",
      "\n"
     ]
    },
    {
     "data": {
      "text/plain": [
       "array([0.23469388, 0.23208191, 0.22758621, 0.25      , 0.2614841 ,\n",
       "       0.24642857, 0.24820144, 0.25      , 0.25362319, 0.24908425])"
      ]
     },
     "execution_count": 435,
     "metadata": {},
     "output_type": "execute_result"
    }
   ],
   "source": [
    "from sklearn.model_selection import cross_val_score\n",
    "clf=OneVsRestClassifier(LogisticRegression(solver='sag'))\n",
    "cross_val_score(clf,theme_features, data_y, cv=10)"
   ]
  },
  {
   "cell_type": "code",
   "execution_count": 474,
   "metadata": {
    "collapsed": true,
    "scrolled": false
   },
   "outputs": [],
   "source": [
    "from sklearn.model_selection import train_test_split\n",
    "from sklearn.metrics import classification_report\n",
    "X_train, X_test, y_train, y_test = train_test_split(gold, data_y,\n",
    "                                                    stratify=data_y, \n",
    "                                                    test_size=0.20, random_state =42)"
   ]
  },
  {
   "cell_type": "code",
   "execution_count": 475,
   "metadata": {
    "collapsed": true
   },
   "outputs": [],
   "source": [
    "model = Pipeline([\n",
    "    ('clf',OneVsRestClassifier(LogisticRegression(solver='sag')))\n",
    "])"
   ]
  },
  {
   "cell_type": "code",
   "execution_count": 476,
   "metadata": {},
   "outputs": [
    {
     "name": "stderr",
     "output_type": "stream",
     "text": [
      "/Users/ViVeri/anaconda3/lib/python3.6/site-packages/sklearn/linear_model/sag.py:326: ConvergenceWarning:\n",
      "\n",
      "The max_iter was reached which means the coef_ did not converge\n",
      "\n",
      "/Users/ViVeri/anaconda3/lib/python3.6/site-packages/sklearn/linear_model/sag.py:326: ConvergenceWarning:\n",
      "\n",
      "The max_iter was reached which means the coef_ did not converge\n",
      "\n",
      "/Users/ViVeri/anaconda3/lib/python3.6/site-packages/sklearn/linear_model/sag.py:326: ConvergenceWarning:\n",
      "\n",
      "The max_iter was reached which means the coef_ did not converge\n",
      "\n",
      "/Users/ViVeri/anaconda3/lib/python3.6/site-packages/sklearn/linear_model/sag.py:326: ConvergenceWarning:\n",
      "\n",
      "The max_iter was reached which means the coef_ did not converge\n",
      "\n",
      "/Users/ViVeri/anaconda3/lib/python3.6/site-packages/sklearn/linear_model/sag.py:326: ConvergenceWarning:\n",
      "\n",
      "The max_iter was reached which means the coef_ did not converge\n",
      "\n",
      "/Users/ViVeri/anaconda3/lib/python3.6/site-packages/sklearn/linear_model/sag.py:326: ConvergenceWarning:\n",
      "\n",
      "The max_iter was reached which means the coef_ did not converge\n",
      "\n"
     ]
    },
    {
     "name": "stdout",
     "output_type": "stream",
     "text": [
      "CPU times: user 1h 17min 20s, sys: 54.9 s, total: 1h 18min 15s\n",
      "Wall time: 1h 20min 18s\n"
     ]
    },
    {
     "name": "stderr",
     "output_type": "stream",
     "text": [
      "/Users/ViVeri/anaconda3/lib/python3.6/site-packages/sklearn/linear_model/sag.py:326: ConvergenceWarning:\n",
      "\n",
      "The max_iter was reached which means the coef_ did not converge\n",
      "\n"
     ]
    }
   ],
   "source": [
    "%time clf1=model.fit(X_train, y_train)"
   ]
  },
  {
   "cell_type": "code",
   "execution_count": 477,
   "metadata": {},
   "outputs": [
    {
     "name": "stdout",
     "output_type": "stream",
     "text": [
      "             precision    recall  f1-score   support\n",
      "\n",
      "     Action       0.04      0.05      0.05        58\n",
      "  Adventure       0.00      0.00      0.00        33\n",
      "  Animation       0.00      0.00      0.00         7\n",
      "  Biography       0.00      0.00      0.00         1\n",
      "     Comedy       0.00      0.00      0.00        69\n",
      "      Crime       0.00      0.00      0.00        40\n",
      "      Drama       0.22      0.51      0.31       116\n",
      "     Family       0.00      0.00      0.00         8\n",
      "    Fantasy       0.00      0.00      0.00        23\n",
      "  Film-Noir       0.00      0.00      0.00         1\n",
      "    History       0.00      0.00      0.00         1\n",
      "     Horror       0.00      0.00      0.00        30\n",
      "     Music1       0.00      0.00      0.00         1\n",
      "     Music2       0.00      0.00      0.00         4\n",
      "    Mystery       0.00      0.00      0.00        21\n",
      "    Romance       0.00      0.00      0.00        38\n",
      "     Sci-Fi       0.00      0.00      0.00        31\n",
      "      Short       0.00      0.00      0.00         1\n",
      "   Thriller       0.03      0.04      0.03        75\n",
      "        War       0.00      0.00      0.00         5\n",
      "    Western       0.00      0.00      0.00         3\n",
      "\n",
      "avg / total       0.05      0.11      0.07       566\n",
      "\n",
      "0.15410355978973392\n"
     ]
    },
    {
     "name": "stderr",
     "output_type": "stream",
     "text": [
      "/Users/ViVeri/anaconda3/lib/python3.6/site-packages/sklearn/metrics/classification.py:1135: UndefinedMetricWarning:\n",
      "\n",
      "Precision and F-score are ill-defined and being set to 0.0 in labels with no predicted samples.\n",
      "\n"
     ]
    }
   ],
   "source": [
    "y_pred = clf1.predict(X_test)\n",
    "print(classification_report( y_test, y_pred))\n",
    "print((y_pred == y_test).mean())"
   ]
  },
  {
   "cell_type": "code",
   "execution_count": 386,
   "metadata": {
    "collapsed": true
   },
   "outputs": [],
   "source": [
    "x = dict(Counter(F['labels'].tolist()))\n",
    "sorted_x = sorted(x.items(), key=operator.itemgetter(1), reverse=True)"
   ]
  },
  {
   "cell_type": "code",
   "execution_count": 383,
   "metadata": {
    "collapsed": true
   },
   "outputs": [],
   "source": [
    "import operator"
   ]
  },
  {
   "cell_type": "code",
   "execution_count": 390,
   "metadata": {},
   "outputs": [
    {
     "data": {
      "text/plain": [
       "['Drama',\n",
       " 'Thriller',\n",
       " 'Comedy',\n",
       " 'Action',\n",
       " 'Crime',\n",
       " 'Romance',\n",
       " 'Adventure',\n",
       " 'Sci-Fi',\n",
       " 'Horror',\n",
       " 'Fantasy',\n",
       " 'Mystery',\n",
       " 'Family',\n",
       " 'Animation',\n",
       " 'War',\n",
       " 'Music2',\n",
       " 'Western',\n",
       " 'Music1',\n",
       " 'Film-Noir',\n",
       " 'Biography',\n",
       " 'History',\n",
       " 'Short',\n",
       " 'Sport']"
      ]
     },
     "execution_count": 390,
     "metadata": {},
     "output_type": "execute_result"
    }
   ],
   "source": [
    "genres=topicid(sorted_x)"
   ]
  },
  {
   "cell_type": "code",
   "execution_count": 391,
   "metadata": {},
   "outputs": [
    {
     "data": {
      "text/plain": [
       "[('Drama', 579),\n",
       " ('Thriller', 373),\n",
       " ('Comedy', 347),\n",
       " ('Action', 290),\n",
       " ('Crime', 201),\n",
       " ('Romance', 192),\n",
       " ('Adventure', 166),\n",
       " ('Sci-Fi', 155),\n",
       " ('Horror', 149),\n",
       " ('Fantasy', 113),\n",
       " ('Mystery', 107),\n",
       " ('Family', 39),\n",
       " ('Animation', 35),\n",
       " ('War', 26),\n",
       " ('Music2', 22),\n",
       " ('Western', 13),\n",
       " ('Music1', 5),\n",
       " ('Film-Noir', 4),\n",
       " ('Biography', 3),\n",
       " ('History', 3),\n",
       " ('Short', 3),\n",
       " ('Sport', 2)]"
      ]
     },
     "execution_count": 391,
     "metadata": {},
     "output_type": "execute_result"
    }
   ],
   "source": [
    "sorted_x"
   ]
  }
 ],
 "metadata": {
  "kernelspec": {
   "display_name": "Python 3",
   "language": "python",
   "name": "python3"
  },
  "language_info": {
   "codemirror_mode": {
    "name": "ipython",
    "version": 3
   },
   "file_extension": ".py",
   "mimetype": "text/x-python",
   "name": "python",
   "nbconvert_exporter": "python",
   "pygments_lexer": "ipython3",
   "version": "3.6.3"
  }
 },
 "nbformat": 4,
 "nbformat_minor": 2
}
