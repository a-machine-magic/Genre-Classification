{
 "cells": [
  {
   "cell_type": "markdown",
   "metadata": {},
   "source": [
    "# EXPERIMENT 1\n",
    "### The following notebook contains the code for Genre Classifcation Experiment. In this experiment the goal is to use an unsupervised learning algorithm (LDA) as a way to engineer features to aid in the supervised learning task of classifying documents according to genre.\n",
    "\n",
    "e.g. building a classifier on top of a topic model "
   ]
  },
  {
   "cell_type": "code",
   "execution_count": 54,
   "metadata": {
    "collapsed": true
   },
   "outputs": [],
   "source": [
    "import ISO_Networks as ISON\n",
    "import datawrangler\n",
    "\n",
    "import re\n",
    "import string\n",
    "import nltk\n",
    "import pandas as pd\n",
    "\n",
    "import matplotlib.pyplot as plt\n",
    "import plotly\n",
    "%matplotlib inline"
   ]
  },
  {
   "cell_type": "markdown",
   "metadata": {},
   "source": [
    "# Gather Data From 3 Corpora"
   ]
  },
  {
   "cell_type": "code",
   "execution_count": 2,
   "metadata": {
    "collapsed": true
   },
   "outputs": [],
   "source": [
    "C, F, T =ISON.load_universe()"
   ]
  },
  {
   "cell_type": "code",
   "execution_count": 8,
   "metadata": {
    "collapsed": true
   },
   "outputs": [],
   "source": [
    "films = F.text.tolist()\n",
    "television = T.text.tolist()"
   ]
  },
  {
   "cell_type": "markdown",
   "metadata": {},
   "source": [
    "# LDA Trained Model\n",
    "Load previously trained LDA models from CMU Movie Corpus.\n",
    "### One of the things to consider here is how the model is trained ( different hyperparameters)\n",
    "The first model was run 500 times without lemmatization\n",
    "The second model was run 200 times with lemmatization"
   ]
  },
  {
   "cell_type": "code",
   "execution_count": 3,
   "metadata": {},
   "outputs": [],
   "source": [
    "model_0, dictionary0=datawrangler.load_model('topic500i.model')\n",
    "model_1, dictionary1=datawrangler.load_model('200_27_silver.model')"
   ]
  },
  {
   "cell_type": "code",
   "execution_count": 4,
   "metadata": {
    "collapsed": true
   },
   "outputs": [],
   "source": [
    "legend_0=datawrangler.topic_items(model_0,20)\n",
    "legend_1=datawrangler.topic_items(model_1,20)"
   ]
  },
  {
   "cell_type": "markdown",
   "metadata": {},
   "source": [
    "# Preprocess Film Documents \n",
    "The input data for acquired from the original data matrices and translated into a bag of words representation. The film_strip function gets rid of all forms of punctuation, stopwords and returns a lowercase lematized BoW"
   ]
  },
  {
   "cell_type": "code",
   "execution_count": 24,
   "metadata": {
    "collapsed": true
   },
   "outputs": [],
   "source": [
    "import string\n",
    "import re\n",
    "import collections"
   ]
  },
  {
   "cell_type": "markdown",
   "metadata": {},
   "source": [
    "# Normalization"
   ]
  },
  {
   "cell_type": "code",
   "execution_count": 70,
   "metadata": {},
   "outputs": [],
   "source": [
    "#stopwords\n",
    "stop_words=ISON.stop_words()\n",
    "lemma = nltk.wordnet.WordNetLemmatizer()\n",
    "\n",
    "def film_strip(source):\n",
    "    regex = re.compile('[%s]' % re.escape(string.punctuation))\n",
    "    out = regex.sub(' ', source)\n",
    "    out =out.lower().split()\n",
    "    film_strip=[lemma.lemmatize(token) for token in out if token not in stop_words]\n",
    "    return film_strip\n",
    "\n",
    "\n",
    "def word_distribution(bow):\n",
    "    flatten = lambda l: [item for sublist in l for item in sublist]\n",
    "    raw_word_soup=flatten(bow)\n",
    "    word_counter = collections.Counter(raw_word_soup)\n",
    "\n",
    "    return word_counter\n",
    "    "
   ]
  },
  {
   "cell_type": "code",
   "execution_count": 83,
   "metadata": {},
   "outputs": [],
   "source": [
    "# normalize screenplays\n",
    "film_universe=[film_strip(screenplay) for screenplay in films]"
   ]
  },
  {
   "cell_type": "code",
   "execution_count": 106,
   "metadata": {
    "collapsed": true
   },
   "outputs": [],
   "source": [
    "F['normal'] = [' '.join(i) for i in film_universe]"
   ]
  },
  {
   "cell_type": "code",
   "execution_count": 108,
   "metadata": {},
   "outputs": [
    {
     "data": {
      "text/plain": [
       "0       15 minute fade czech airline panning side plan...\n",
       "1       2012 written emmerich kloser draft february 19...\n",
       "2       30 minute written diliberti 12 11 09 loosely b...\n",
       "3       48 hr unknown draft writer fade open country e...\n",
       "4       rev 04 29 87 blue law screenplay pressfield sh...\n",
       "5       window top top location location abyss abyss o...\n",
       "6       air force window top top location location air...\n",
       "7       alien early draft bannon alien project titled ...\n",
       "8       alien iii screenplay fasano story fasano draft...\n",
       "9       alien resurrection deep space silent black swe...\n",
       "10      window top top location location alien alien d...\n",
       "11      alien predator dark horse prod present alien p...\n",
       "12      dark written elan mastai roesch fade dense dar...\n",
       "13      fade city skyline establishing shot city skyli...\n",
       "14      window top top location location title origina...\n",
       "15      arctic blue lamanna fade boreal alaska aerial ...\n",
       "16      armageddon fade blackness hint green earth lie...\n",
       "17      army darkness property western renaissance pic...\n",
       "18      assassin early draft wachowski assassin writte...\n",
       "19      window top top location location power interna...\n",
       "20      window top top location location power spy sha...\n",
       "21      avatar written sound drum distance growing lou...\n",
       "22      break frame script website abstraction http ws...\n",
       "23      avenger written joss whedon earth mightiest he...\n",
       "24      backdraft screenplay widen shooting draft fire...\n",
       "25      rev 06 20 94 pink rev 06 21 94 yellow rev 06 2...\n",
       "26      bad country aka whiskey written hirschbein 201...\n",
       "27      batman early draft hamm batman screenplay hamm...\n",
       "28      batman return unproduced draft hamm batman scr...\n",
       "29      battle los written bertolini 05 14 09 fade spa...\n",
       "                              ...                        \n",
       "2797    eternity written taradash draft 29 1952 fade q...\n",
       "2798    hotel rwanda written keir pearson fade screen ...\n",
       "2799    inglourious basterds written tarantino dairy f...\n",
       "2800    mohican written mann crowe fade screen microco...\n",
       "2801    educational educational www script fix samurai...\n",
       "2802    men stare goat written straughan ronson 10 21 ...\n",
       "2803    break frame script website abstraction http ws...\n",
       "2804    harbor harbor early draft black hear sound air...\n",
       "2805    pianist harwood based published memoir wladysl...\n",
       "2806    platoon platoon fade quotation black screen re...\n",
       "2807    window top top location location roday early d...\n",
       "2808    window top top location location schindler lis...\n",
       "2809    king shooting draft king screenplay story ridl...\n",
       "2810    king spoil war unproduced draft ridley spoil w...\n",
       "2811    tropic thunder written cohen stiller theroux m...\n",
       "2812    valkyrie written mcquarrie 2007 swear god sacr...\n",
       "2813    war horse written england 1912 bucolic magnifi...\n",
       "2814    bad black written mcguire kaufman based story ...\n",
       "2815    book written whitta 21 2007 civilization destr...\n",
       "2816    dance wolf written 23 1989 final draft field h...\n",
       "2817    django unchained written tarantino countryside...\n",
       "2818    fade jail mexico early friday morning patrol c...\n",
       "2819    roughshod written home story viertel desert fu...\n",
       "2820    window top top location location searcher sear...\n",
       "2821    station written fenton miller based short shoo...\n",
       "2822    tall saddle written fix story 1944 shooting dr...\n",
       "2823    window top top location location tombstone tom...\n",
       "2824    true grit adaptation coen based portis 12 2009...\n",
       "2825    wild bunch written walon green peckinpah febru...\n",
       "2826    rev 06 15 98 pink rev 07 01 98 yellow rev 08 2...\n",
       "Name: normal, Length: 2827, dtype: object"
      ]
     },
     "execution_count": 108,
     "metadata": {},
     "output_type": "execute_result"
    }
   ],
   "source": [
    "F.normal"
   ]
  },
  {
   "cell_type": "markdown",
   "metadata": {},
   "source": [
    "# Word distribution in corpora\n",
    "Word distribution in corpora can reveal certain words that appear far too often to be of use much in the same way as other stop words.\n",
    "\n",
    "## Might be a good idea to filter out some of the top occuring words for greater data granularity (reduce noise)"
   ]
  },
  {
   "cell_type": "code",
   "execution_count": 84,
   "metadata": {
    "collapsed": true
   },
   "outputs": [],
   "source": [
    "#calculate word distributions\n",
    "film_word_distribution= word_distribution(film_universe)"
   ]
  },
  {
   "cell_type": "code",
   "execution_count": 85,
   "metadata": {},
   "outputs": [
    {
     "name": "stdout",
     "output_type": "stream",
     "text": [
      "         Word   Count\n",
      "0        door  146864\n",
      "1        hand  140291\n",
      "2        room  129721\n",
      "3        turn  115728\n",
      "4         eye  104867\n",
      "5        head  102876\n",
      "6        cont  102430\n",
      "7        open   98640\n",
      "8        face   97028\n",
      "9        time   96102\n",
      "10        car   93411\n",
      "11        cut   92715\n",
      "12  continued   82879\n",
      "13       move   74561\n",
      "14       walk   73729\n",
      "15       pull   72139\n",
      "16      start   71220\n",
      "17       take   67815\n",
      "18      house   66840\n",
      "19      close   64860\n"
     ]
    },
    {
     "data": {
      "image/png": "[encoded data removed]",
      "text/plain": [
       "<matplotlib.figure.Figure at 0x1a97aa0470>"
      ]
     },
     "metadata": {},
     "output_type": "display_data"
    }
   ],
   "source": [
    "lst = film_word_distribution.most_common(2000000)\n",
    "df = pd.DataFrame(lst, columns = ['Word', 'Count'])\n",
    "df.plot(x='Word',y='Count')\n",
    "print(df.head(20))"
   ]
  },
  {
   "cell_type": "markdown",
   "metadata": {},
   "source": [
    "# Topic Discovery Film Corpus\n",
    "Utilize preprocessed documents to project into the LDA MODEL. The ouput will be topic distributions to utilize as features later"
   ]
  },
  {
   "cell_type": "code",
   "execution_count": 49,
   "metadata": {},
   "outputs": [],
   "source": [
    "#SAMPLE CODE \n",
    "# document_topics = model_0[dictionary0.doc2bow(film_reels[0])]\n",
    "# exclude = [22,12]\n",
    "# sorted_documents=sorted(document_topics, reverse=True, key = lambda x :x[1])[:7]\n",
    "# top_topics=[j for j,_ in sorted_documents]\n",
    "# theme_id = [t for t in top_topics if t not in exclude]\n",
    "# theme= [legend_0[t] for t in top_topics if t not in exclude]"
   ]
  },
  {
   "cell_type": "code",
   "execution_count": 81,
   "metadata": {
    "collapsed": true
   },
   "outputs": [],
   "source": [
    "def film_analysis_model_0(film):\n",
    "    document_topics = model_0[dictionary0.doc2bow(film)]\n",
    "    exclude = set([24,21, 29,12])\n",
    "    sorted_documents=sorted(document_topics, reverse=True, key = lambda x :x[1])[:10]\n",
    "    top_topics=[j for j,_ in sorted_documents]\n",
    "    theme_id = [t for t in top_topics if t not in exclude]\n",
    "    theme= [legend_0[t] for t in top_topics if t not in exclude]\n",
    "    \n",
    "    return theme\n",
    "    \n",
    "def film_analysis_model_1(film):\n",
    "    document_topics = model_1[dictionary1.doc2bow(film)]\n",
    "    exclude = [22,12, 13,14]\n",
    "    sorted_documents=sorted(document_topics, reverse=True, key = lambda x :x[1])[:10]\n",
    "    top_topics=[j for j,_ in sorted_documents]\n",
    "    theme_id = [t for t in top_topics if t not in exclude]\n",
    "    theme= [legend_1[t] for t in top_topics if t not in exclude]\n",
    "    \n",
    "    return theme"
   ]
  },
  {
   "cell_type": "code",
   "execution_count": 77,
   "metadata": {},
   "outputs": [],
   "source": [
    "film_theme0=[film_analysis_model_0(film) for film in film_reels]\n",
    "film_theme1=[film_analysis_model_1(film) for film in film_reels]"
   ]
  },
  {
   "cell_type": "code",
   "execution_count": 165,
   "metadata": {},
   "outputs": [],
   "source": [
    "srt=film_reels[0]"
   ]
  },
  {
   "cell_type": "markdown",
   "metadata": {},
   "source": [
    "# Part Missing\n",
    "    Still working on way to get LDA vector representation to feed into model below\n",
    "        Need to figure out if gensim provides vector representation of topics already\n",
    "            "
   ]
  },
  {
   "cell_type": "code",
   "execution_count": null,
   "metadata": {},
   "outputs": [],
   "source": []
  },
  {
   "cell_type": "markdown",
   "metadata": {},
   "source": [
    "# MACHINE LEARNING MODEL\n",
    "\n",
    "## TO-DO\n",
    "    # Find a way to concatenate topic-features with word-features\n",
    "    #\n",
    "    "
   ]
  },
  {
   "cell_type": "code",
   "execution_count": 87,
   "metadata": {
    "collapsed": true
   },
   "outputs": [],
   "source": [
    "# Machine Learning MODEL \n",
    "from sklearn.model_selection import StratifiedKFold, StratifiedShuffleSplit, GridSearchCV\n",
    "from sklearn.feature_extraction.text import TfidfVectorizer\n",
    "from sklearn.pipeline import Pipeline\n",
    "from sklearn import linear_model, decomposition\n",
    "from sklearn.multiclass import OneVsRestClassifier\n",
    "from sklearn.linear_model import LogisticRegression"
   ]
  },
  {
   "cell_type": "code",
   "execution_count": 94,
   "metadata": {},
   "outputs": [],
   "source": [
    "# pipeline = Pipeline([\n",
    "#     ('tfidf', TfidfVectorizer(stop_words=stop_words)),\n",
    "#     ('clf', OneVsRestClassifier(LogisticRegression(solver='sag')))])\n",
    "\n",
    "# parameters = {\n",
    "#     'tfidf__max_df': (0.25, 0.5, 0.75),\n",
    "#     'tfidf__ngram_range': [(1, 1), (1, 2), (1, 3)],\n",
    "#     \"clf__estimator__C\": [0.01, 0.1, 1],\n",
    "#     \"clf__estimator__class_weight\": ['balanced', None],\n",
    "# }\n"
   ]
  },
  {
   "cell_type": "code",
   "execution_count": 137,
   "metadata": {},
   "outputs": [],
   "source": [
    "data_x = F[['normal']].as_matrix()\n",
    "data_y = F.drop(['name', 'text', 'normal'], axis=1).as_matrix()"
   ]
  },
  {
   "cell_type": "code",
   "execution_count": 150,
   "metadata": {
    "scrolled": false
   },
   "outputs": [],
   "source": [
    "from sklearn.model_selection import train_test_split\n",
    "from sklearn.metrics import classification_report\n",
    "X_train, X_test, y_train, y_test = train_test_split(data_x, data_y,\n",
    "                                                    stratify=data_y, \n",
    "                                                    test_size=0.30, random_state =42)"
   ]
  },
  {
   "cell_type": "code",
   "execution_count": 151,
   "metadata": {
    "collapsed": true
   },
   "outputs": [],
   "source": [
    "train_x = [x[0].strip() for x in X_train.tolist()]\n",
    "train_y = [x[0].strip() for x in y_train.tolist()]\n",
    "test_x = [x[0].strip() for x in X_test.tolist()]\n",
    "test_y = [x[0].strip() for x in y_test.tolist()]"
   ]
  },
  {
   "cell_type": "code",
   "execution_count": 154,
   "metadata": {},
   "outputs": [
    {
     "data": {
      "text/plain": [
       "849"
      ]
     },
     "execution_count": 154,
     "metadata": {},
     "output_type": "execute_result"
    }
   ],
   "source": [
    "len(test_x)"
   ]
  },
  {
   "cell_type": "code",
   "execution_count": 155,
   "metadata": {},
   "outputs": [],
   "source": [
    "model = Pipeline([\n",
    "    ('tfidf', TfidfVectorizer(ngram_range=(1,3), stop_words=stop_words)),\n",
    "    ('clf', OneVsRestClassifier(LogisticRegression(solver ='sag')))\n",
    "])\n"
   ]
  },
  {
   "cell_type": "code",
   "execution_count": 156,
   "metadata": {},
   "outputs": [
    {
     "name": "stderr",
     "output_type": "stream",
     "text": [
      "/Users/ViVeri/anaconda3/lib/python3.6/site-packages/sklearn/linear_model/sag.py:326: ConvergenceWarning:\n",
      "\n",
      "The max_iter was reached which means the coef_ did not converge\n",
      "\n",
      "/Users/ViVeri/anaconda3/lib/python3.6/site-packages/sklearn/linear_model/sag.py:326: ConvergenceWarning:\n",
      "\n",
      "The max_iter was reached which means the coef_ did not converge\n",
      "\n"
     ]
    },
    {
     "name": "stdout",
     "output_type": "stream",
     "text": [
      "CPU times: user 41min 45s, sys: 1min 31s, total: 43min 17s\n",
      "Wall time: 45min 37s\n"
     ]
    }
   ],
   "source": [
    "%time clf1=model.fit(train_x, train_y)"
   ]
  },
  {
   "cell_type": "code",
   "execution_count": 157,
   "metadata": {},
   "outputs": [
    {
     "name": "stdout",
     "output_type": "stream",
     "text": [
      "             precision    recall  f1-score   support\n",
      "\n",
      "     Action       0.00      0.00      0.00        87\n",
      "  Adventure       0.00      0.00      0.00        50\n",
      "  Animation       0.00      0.00      0.00        10\n",
      "  Biography       0.00      0.00      0.00         1\n",
      "     Comedy       0.00      0.00      0.00       104\n",
      "      Crime       0.00      0.00      0.00        60\n",
      "      Drama       0.19      0.57      0.29       174\n",
      "     Family       0.00      0.00      0.00        12\n",
      "    Fantasy       0.00      0.00      0.00        34\n",
      "  Film-Noir       0.00      0.00      0.00         1\n",
      "    History       0.00      0.00      0.00         1\n",
      "     Horror       0.00      0.00      0.00        45\n",
      "     Music1       0.00      0.00      0.00         1\n",
      "     Music2       0.00      0.00      0.00         7\n",
      "    Mystery       0.00      0.00      0.00        32\n",
      "    Romance       0.00      0.00      0.00        58\n",
      "     Sci-Fi       0.00      0.00      0.00        46\n",
      "      Short       0.00      0.00      0.00         1\n",
      "      Sport       0.00      0.00      0.00         1\n",
      "   Thriller       0.00      0.00      0.00       112\n",
      "        War       0.00      0.00      0.00         8\n",
      "    Western       0.00      0.00      0.00         4\n",
      "\n",
      "avg / total       0.04      0.12      0.06       849\n",
      "\n",
      "0.17083355877697173\n"
     ]
    },
    {
     "name": "stderr",
     "output_type": "stream",
     "text": [
      "/Users/ViVeri/anaconda3/lib/python3.6/site-packages/sklearn/metrics/classification.py:1135: UndefinedMetricWarning:\n",
      "\n",
      "Precision and F-score are ill-defined and being set to 0.0 in labels with no predicted samples.\n",
      "\n"
     ]
    }
   ],
   "source": [
    "y_pred = clf1.predict(test_x)\n",
    "print(classification_report( test_y, y_pred))\n",
    "print((y_pred == y_test).mean())"
   ]
  },
  {
   "cell_type": "code",
   "execution_count": null,
   "metadata": {
    "collapsed": true
   },
   "outputs": [],
   "source": []
  }
 ],
 "metadata": {
  "kernelspec": {
   "display_name": "Python 3",
   "language": "python",
   "name": "python3"
  },
  "language_info": {
   "codemirror_mode": {
    "name": "ipython",
    "version": 3
   },
   "file_extension": ".py",
   "mimetype": "text/x-python",
   "name": "python",
   "nbconvert_exporter": "python",
   "pygments_lexer": "ipython3",
   "version": "3.6.3"
  }
 },
 "nbformat": 4,
 "nbformat_minor": 2
}
